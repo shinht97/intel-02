{
 "cells": [
  {
   "cell_type": "code",
   "execution_count": 1,
   "id": "2ac096f7-2a5d-4349-b266-8cfb428979c3",
   "metadata": {},
   "outputs": [],
   "source": [
    "import numpy as np"
   ]
  },
  {
   "cell_type": "code",
   "execution_count": 2,
   "id": "d6bd4edb-497a-4cc9-935c-69b55486443c",
   "metadata": {},
   "outputs": [],
   "source": [
    "def sigmoid(x):\n",
    "    return 1/(1+np.exp(-x))"
   ]
  },
  {
   "cell_type": "code",
   "execution_count": 3,
   "id": "06114936-ee12-4619-821a-960e22eb0fde",
   "metadata": {},
   "outputs": [],
   "source": [
    "def numerical_derivative(f,x):\n",
    "    delta_x=1e-4\n",
    "    gradf=np.zeros_like(x)\n",
    "    it=np.nditer(x,flags=['multi_index'],op_flags=['readwrite'])\n",
    "    while not it.finished:\n",
    "        idx=it.multi_index\n",
    "        tmp_val=x[idx]\n",
    "        x[idx]=float(tmp_val)+delta_x\n",
    "        fx1=f(x)\n",
    "        \n",
    "        x[idx]=float(tmp_val)-delta_x\n",
    "        fx2=f(x)\n",
    "        \n",
    "        gradf[idx]=(fx1-fx2)/(2*delta_x)\n",
    "        x[idx]=tmp_val\n",
    "        it.iternext()\n",
    "    return gradf"
   ]
  },
  {
   "cell_type": "code",
   "execution_count": 4,
   "id": "bf9e22e8-aa68-4f90-9ec0-476f88ea5301",
   "metadata": {},
   "outputs": [],
   "source": [
    "class logicGate:\n",
    "    def __init__(self, gate_name, xdata, tdata, learning_rate = 0.01, threshold = 0.5):\n",
    "        self.name = gate_name\n",
    "        \n",
    "        self.__xdata = xdata.reshape(4,2)\n",
    "        self.__tdata = tdata.reshape(4,1)\n",
    "        \n",
    "        self.__w = np.random.rand(2,1)\n",
    "        self.__b = np.random.rand(1)\n",
    "        \n",
    "        self.__learning_rate = learning_rate\n",
    "        self.__threshold = threshold\n",
    "        \n",
    "    def __loss_func(self):\n",
    "        delta=1e-7\n",
    "        \n",
    "        z = np.dot(self.__xdata,self.__w)+self.__b\n",
    "        y=sigmoid(z)\n",
    "        \n",
    "        return -np.sum(self.__tdata*np.log(y+delta)+(1-self.__tdata)*np.log(1-y)+delta)\n",
    "        \n",
    "    def err_val(self):\n",
    "        delta = 1e-7\n",
    "        \n",
    "        z=np.dot(self.__xdata,self.__w)+self.__b\n",
    "        y=sigmoid(z)\n",
    "        \n",
    "        return -np.sum(self.__tdata*np.log(y+delta)+(1-self.__tdata)*np.log((1-y)+delta))\n",
    "    def train(self):\n",
    "        \n",
    "        f=lambda x : self.__loss_func()\n",
    "        \n",
    "        print(\"init error : \",self.err_val())\n",
    "        \n",
    "        for stp in range(20000):\n",
    "            self.__w -= self.__learning_rate*numerical_derivative(f,self.__w)\n",
    "            self.__b -= self.__learning_rate*numerical_derivative(f,self.__b)\n",
    "            \n",
    "            if(stp%2000==0):\n",
    "                print(\"step : \",stp,\"error:\",self.err_val())\n",
    "    def predict(self, input_data):\n",
    "        \n",
    "        z=np.dot(input_data,self.__w)+self.__b\n",
    "        y=sigmoid(z)\n",
    "        \n",
    "        if y[0]>self.__threshold:\n",
    "            result =1\n",
    "        else:\n",
    "            result =0\n",
    "            \n",
    "        return y,result"
   ]
  },
  {
   "cell_type": "code",
   "execution_count": 5,
   "id": "7b0fed28-24df-411a-ad08-51faf6e0d3c0",
   "metadata": {},
   "outputs": [
    {
     "name": "stdout",
     "output_type": "stream",
     "text": [
      "init error :  2.5577520163496494\n",
      "step :  0 error: 2.5518956640466066\n",
      "step :  2000 error: 0.6647217528539845\n",
      "step :  4000 error: 0.39186538906320767\n",
      "step :  6000 error: 0.27571230637035754\n",
      "step :  8000 error: 0.2117373913251296\n",
      "step :  10000 error: 0.17143726086979927\n",
      "step :  12000 error: 0.1438129848962789\n",
      "step :  14000 error: 0.1237393210440316\n",
      "step :  16000 error: 0.10851438800467111\n",
      "step :  18000 error: 0.09658254219289425\n",
      "[0 0] : 1\n",
      "[0 1] : 1\n",
      "[1 0] : 1\n",
      "[1 1] : 0\n"
     ]
    }
   ],
   "source": [
    "#OR\n",
    "xdata=np.array([[0,0],[0,1],[1,0],[1,1]])\n",
    "tdata=np.array([[1,1,1,0]])\n",
    "\n",
    "AND_gate=logicGate(\"AND_GATE\",xdata,tdata)\n",
    "AND_gate.train()\n",
    "\n",
    "for in_data in xdata:\n",
    "    (sig_val,logic_val)=AND_gate.predict(in_data)\n",
    "    print(in_data ,\":\",logic_val)"
   ]
  },
  {
   "cell_type": "code",
   "execution_count": 6,
   "id": "f8a6ed17-0fef-44b5-b333-e609edb313a2",
   "metadata": {},
   "outputs": [
    {
     "name": "stdout",
     "output_type": "stream",
     "text": [
      "init error :  4.931670712911505\n",
      "step :  0 error: 4.843330399335356\n",
      "step :  2000 error: 0.43667718801185207\n",
      "step :  4000 error: 0.23415407703018346\n",
      "step :  6000 error: 0.15783008652042915\n",
      "step :  8000 error: 0.11844150913418629\n",
      "step :  10000 error: 0.09456630356580628\n",
      "step :  12000 error: 0.07860246975347804\n",
      "step :  14000 error: 0.06719895017605795\n",
      "step :  16000 error: 0.05865627202804752\n",
      "step :  18000 error: 0.05202320497707772\n",
      "[0 0] : 1\n",
      "[0 1] : 0\n",
      "[1 0] : 0\n",
      "[1 1] : 0\n"
     ]
    }
   ],
   "source": [
    "#NAND\n",
    "xdata=np.array([[0,0],[0,1],[1,0],[1,1]])\n",
    "tdata=np.array([[1,0,0,0]])\n",
    "\n",
    "AND_gate=logicGate(\"AND_GATE\",xdata,tdata)\n",
    "AND_gate.train()\n",
    "\n",
    "for in_data in xdata:\n",
    "    (sig_val,logic_val)=AND_gate.predict(in_data)\n",
    "    print(in_data ,\":\", logic_val)"
   ]
  },
  {
   "cell_type": "code",
   "execution_count": null,
   "id": "1d9c1a31-c880-4b1b-8f09-dbdf9dc0e9ea",
   "metadata": {},
   "outputs": [],
   "source": []
  }
 ],
 "metadata": {
  "kernelspec": {
   "display_name": "Python 3 (ipykernel)",
   "language": "python",
   "name": "python3"
  },
  "language_info": {
   "codemirror_mode": {
    "name": "ipython",
    "version": 3
   },
   "file_extension": ".py",
   "mimetype": "text/x-python",
   "name": "python",
   "nbconvert_exporter": "python",
   "pygments_lexer": "ipython3",
   "version": "3.10.12"
  }
 },
 "nbformat": 4,
 "nbformat_minor": 5
}
