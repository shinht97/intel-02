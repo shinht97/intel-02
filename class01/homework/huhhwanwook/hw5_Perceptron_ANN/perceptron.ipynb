{
 "cells": [
  {
   "cell_type": "code",
   "execution_count": 42,
   "id": "e371f985-9a00-44b9-a865-4ca71f1da479",
   "metadata": {},
   "outputs": [],
   "source": [
    "import numpy as np"
   ]
  },
  {
   "cell_type": "code",
   "execution_count": 43,
   "id": "e4aecea6-9408-4ade-b4b5-952e041a7613",
   "metadata": {},
   "outputs": [],
   "source": [
    "def sigmoid(x):\n",
    "    return 1/(1+np.exp(-x))"
   ]
  },
  {
   "cell_type": "code",
   "execution_count": 47,
   "id": "66cbf779-a125-48dc-84ba-b644e14ca5a7",
   "metadata": {},
   "outputs": [],
   "source": [
    "def numerical_derivative(f, x):\n",
    "    delta_x = 1e-4\n",
    "    gradf=np.zeros_like(x)\n",
    "\n",
    "    it = np.nditer(x, flags=['multi_index'], op_flags=['readwrite'])\n",
    "\n",
    "    while not it.finished:\n",
    "        idx=it.multi_index\n",
    "        tmp_val=x[idx]\n",
    "        x[idx]=float(tmp_val)+delta_x\n",
    "        fx1=f(x)\n",
    "\n",
    "        x[idx]=float(tmp_val)-delta_x\n",
    "        fx2=f(x)\n",
    "        gradf[idx]=(fx1-fx2)/(2*delta_x)\n",
    "        \n",
    "        \n",
    "        x[idx]=tmp_val\n",
    "        it.iternext()\n",
    "    return gradf"
   ]
  },
  {
   "cell_type": "code",
   "execution_count": 50,
   "id": "7de39547-626a-4f0c-aedc-d22d84393bbc",
   "metadata": {},
   "outputs": [],
   "source": [
    "class logicGate:\n",
    "    def __init__(self, gate_name, xdata, tdata, learning_rate=0.01, threshold=0.5):\n",
    "        self.name=gate_name\n",
    "        \n",
    "        self.__xdata=xdata.reshape(4,2)\n",
    "        self.__tdata=tdata.reshape(4,1)\n",
    "\n",
    "        self.__w=np.random.rand(2,1)\n",
    "        self.__b=np.random.rand(1)\n",
    "\n",
    "        self.__learning_rate=learning_rate\n",
    "        self.__threshold=threshold\n",
    "\n",
    "    def __loss_func(self):\n",
    "        delta=1e-7\n",
    "\n",
    "        z = np.dot(self.__xdata, self.__w)+self.__b\n",
    "        y=sigmoid(z)\n",
    "\n",
    "        return -np.sum(self.__tdata*np.log(y+delta)+(1-self.__tdata)*np.log((1-y)+delta))\n",
    "    def err_val(self):\n",
    "        delta = 1e-7\n",
    "    \n",
    "        z = np.dot(self.__xdata, self.__w)+self.__b\n",
    "        y = sigmoid(z)\n",
    "    \n",
    "        return -np.sum(self.__tdata*np.log(y+delta)+(1-self.__tdata)*np.log((1-y)+delta))\n",
    "\n",
    "    def train(self):\n",
    "        f = lambda x:self.__loss_func()\n",
    "        print(\"init error : \", self.err_val())\n",
    "\n",
    "        for stp in range(20000):\n",
    "            self.__w -= self.__learning_rate*numerical_derivative(f, self.__w)\n",
    "            self.__b -= self.__learning_rate*numerical_derivative(f, self.__b)\n",
    "\n",
    "            if(stp%2000 == 0):\n",
    "                print(\"step :\", stp, \"error : \", self.err_val())\n",
    "    def predict(self, input_data):\n",
    "        z = np.dot(input_data,self.__w) + self.__b\n",
    "        y = sigmoid(z)\n",
    "        #print(z, y, np.shapte(self.__w))\n",
    "        \n",
    "        if y[0]>self.__threshold:\n",
    "            result=1\n",
    "        else:\n",
    "            result=0\n",
    "        #print(\"weighting:\", self.__w\", b: \", self.__b)\n",
    "    \n",
    "        return y, result"
   ]
  },
  {
   "cell_type": "code",
   "execution_count": 54,
   "id": "327d6e6c-e95c-4bfe-bb7d-bb05cce6f22e",
   "metadata": {
    "scrolled": true
   },
   "outputs": [
    {
     "name": "stdout",
     "output_type": "stream",
     "text": [
      "init error :  2.8181177129309267\n",
      "step : 0 error :  2.811406223946851\n",
      "step : 2000 error :  0.6782181718316905\n",
      "step : 4000 error :  0.3966304425276945\n",
      "step : 6000 error :  0.2781185307929448\n",
      "step : 8000 error :  0.21317622269735495\n",
      "step : 10000 error :  0.17238961814790033\n",
      "step : 12000 error :  0.1444878421973601\n",
      "step : 14000 error :  0.12424155893228167\n",
      "step : 16000 error :  0.10890221598178194\n",
      "step : 18000 error :  0.09689077159807605\n",
      "[0 0] : 1\n",
      "[0 1] : 1\n",
      "[1 0] : 1\n",
      "[1 1] : 0\n"
     ]
    }
   ],
   "source": [
    "#OR gate\n",
    "#이것 저것 바꿔서 해보면, xor만 예측못함.\n",
    "xdata = np.array([[0,0], [0,1], [1,0], [1,1]])\n",
    "tdata = np.array([[1, 1, 1, 0]])\n",
    "\n",
    "NAND_gate = logicGate(\"NAND_GATE\", xdata, tdata, )\n",
    "NAND_gate.train()\n",
    "\n",
    "for in_data in xdata:\n",
    "    (sig_val, logic_val) = NAND_gate.predict(in_data)\n",
    "    print(in_data , \":\", logic_val)"
   ]
  },
  {
   "cell_type": "code",
   "execution_count": null,
   "id": "3e8a379f-f90d-4685-a65d-b0a76c902410",
   "metadata": {},
   "outputs": [],
   "source": []
  },
  {
   "cell_type": "code",
   "execution_count": null,
   "id": "7fd69944-60af-40ff-8c95-09a3a6aa851b",
   "metadata": {},
   "outputs": [],
   "source": []
  }
 ],
 "metadata": {
  "kernelspec": {
   "display_name": "Python 3 (ipykernel)",
   "language": "python",
   "name": "python3"
  },
  "language_info": {
   "codemirror_mode": {
    "name": "ipython",
    "version": 3
   },
   "file_extension": ".py",
   "mimetype": "text/x-python",
   "name": "python",
   "nbconvert_exporter": "python",
   "pygments_lexer": "ipython3",
   "version": "3.10.12"
  }
 },
 "nbformat": 4,
 "nbformat_minor": 5
}
