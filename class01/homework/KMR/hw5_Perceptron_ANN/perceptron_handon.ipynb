{
 "cells": [
  {
   "cell_type": "code",
   "execution_count": 1,
   "id": "620ab61a-f8e8-48ae-96ac-94e1c722c9ae",
   "metadata": {},
   "outputs": [],
   "source": [
    "import numpy as np"
   ]
  },
  {
   "cell_type": "code",
   "execution_count": 2,
   "id": "d58d27fb-14d9-4e0b-9c04-4e7941a10f9e",
   "metadata": {},
   "outputs": [],
   "source": [
    "def sigmoid(x):\n",
    "    return 1/(1+np.exp(-x))"
   ]
  },
  {
   "cell_type": "code",
   "execution_count": 3,
   "id": "09525926-e0a9-44dc-b47d-27dfef532cbf",
   "metadata": {},
   "outputs": [],
   "source": [
    "def numerical_derivative(f,x):\n",
    "    delta_x = 1e-4\n",
    "    gradf = np.zeros_like(x)\n",
    "\n",
    "    it = np.nditer(x,flags=['multi_index'],op_flags=['readwrite'])\n",
    "    \n",
    "    while not it.finished:\n",
    "        idx = it.multi_index\n",
    "        tmp_val = x[idx]\n",
    "        x[idx] = float(tmp_val)+delta_x\n",
    "        fx1 = f(x)\n",
    "\n",
    "        x[idx] = float(tmp_val)-delta_x\n",
    "        fx2=f(x)\n",
    "        gradf[idx] = (fx1-fx2)/(2*delta_x)\n",
    "\n",
    "        x[idx] = tmp_val\n",
    "        it.iternext()\n",
    "    return gradf"
   ]
  },
  {
   "cell_type": "code",
   "execution_count": 13,
   "id": "9b62bf87-882b-4bca-92f5-6ac5fd8f7ece",
   "metadata": {},
   "outputs": [],
   "source": [
    "class logicGate:\n",
    "    def __init__(self, gate_name,xdata,tdata,learning_rate=0.01,threshold=0.5):\n",
    "        self.name=gate_name\n",
    "        \n",
    "        self.__xdata=xdata.reshape(4,2)\n",
    "        self.__tdata=tdata.reshape(4,1)\n",
    "\n",
    "        self.__w=np.random.rand(2,1)\n",
    "        self.__b=np.random.rand(1)\n",
    "\n",
    "        self.__learning_rate = learning_rate\n",
    "        self.__threshold = threshold\n",
    "    def __loss_func(self):\n",
    "        delta=1e-7\n",
    "\n",
    "        z=np.dot(self.__xdata,self.__w)+self.__b\n",
    "        y=sigmoid(z)\n",
    "\n",
    "        return -np.sum(self.__tdata*np.log(y+delta)+(1-self.__tdata)*np.log((1-y)+delta))\n",
    "    \n",
    "    def err_val(self):\n",
    "        delta=1e-7\n",
    "\n",
    "        z=np.dot(self.__xdata, self.__w)+self.__b\n",
    "        y = sigmoid(z)\n",
    "\n",
    "        return -np.sum(self.__tdata*np.log(y+delta)+(1-self.__tdata)*np.log((1-y)+delta))\n",
    "    \n",
    "    def train(self):\n",
    "        f=lambda x: self.__loss_func()\n",
    "\n",
    "        print(\"init error: \", self.err_val())\n",
    "\n",
    "        for stp in range(20000):\n",
    "            self.__w -= self.__learning_rate * numerical_derivative(f, self.__w)\n",
    "            self.__b -= self.__learning_rate * numerical_derivative(f, self.__b)\n",
    "\n",
    "            if (stp%2000 == 0):\n",
    "                print(\"step : \", stp, \"error : \", self.err_val())\n",
    "    \n",
    "    def predict(self, input_data):\n",
    "        z = np.dot(input_data,self.__w) + self.__b\n",
    "        y=sigmoid(z)\n",
    "        #print(z,y,np.shape(__w))\n",
    "\n",
    "        if y[0]>self.__threshold:\n",
    "            result = 1\n",
    "        else:\n",
    "            result = 0\n",
    "\n",
    "        #print(\"weighting :\",self.__w, \" b: \",self.__b)\n",
    "\n",
    "        return y, result"
   ]
  },
  {
   "cell_type": "markdown",
   "id": "da164968-b247-472f-a761-166ff40b7381",
   "metadata": {},
   "source": [
    "## OR"
   ]
  },
  {
   "cell_type": "code",
   "execution_count": 14,
   "id": "4c3c714d-610b-4158-97b0-444e58cd65d0",
   "metadata": {},
   "outputs": [
    {
     "name": "stdout",
     "output_type": "stream",
     "text": [
      "init error:  2.789174644556754\n",
      "step :  0 error :  2.780275705197295\n",
      "step :  2000 error :  0.6704723585452264\n",
      "step :  4000 error :  0.3939077471806417\n",
      "step :  6000 error :  0.27674559494853035\n",
      "step :  8000 error :  0.2123559054676534\n",
      "step :  10000 error :  0.17184692902126458\n",
      "step :  12000 error :  0.14410341988631434\n",
      "step :  14000 error :  0.1239555419927002\n",
      "step :  16000 error :  0.10868139853135657\n",
      "step :  18000 error :  0.09671530338042755\n",
      "[0 0]  :  1\n",
      "[0 1]  :  1\n",
      "[1 0]  :  1\n",
      "[1 1]  :  0\n"
     ]
    }
   ],
   "source": [
    "xdata = np.array([[0,0],[0,1],[1,0],[1,1]])\n",
    "tdata = np.array([[1,1,1,0]])\n",
    "\n",
    "AND_gate = logicGate(\"AND_GATE\", xdata, tdata,)\n",
    "AND_gate.train()\n",
    "\n",
    "for in_data in xdata:\n",
    "    (sig_val, logic_val)=AND_gate.predict(in_data)\n",
    "    print(in_data, \" : \", logic_val)"
   ]
  },
  {
   "cell_type": "markdown",
   "id": "93e75efc-af0f-4a91-93dd-0d30c5fd4649",
   "metadata": {},
   "source": [
    "## NAND"
   ]
  },
  {
   "cell_type": "code",
   "execution_count": 15,
   "id": "6402b7ca-2198-493d-91c1-85ecf805b580",
   "metadata": {},
   "outputs": [
    {
     "name": "stdout",
     "output_type": "stream",
     "text": [
      "init error:  3.0841747145100937\n",
      "step :  0 error :  3.0465687314867442\n",
      "step :  2000 error :  0.440571099966075\n",
      "step :  4000 error :  0.2353547204407451\n",
      "step :  6000 error :  0.15839062719284566\n",
      "step :  8000 error :  0.11876172065725722\n",
      "step :  10000 error :  0.09477222467692759\n",
      "step :  12000 error :  0.07874557620665751\n",
      "step :  14000 error :  0.06730398894204433\n",
      "step :  16000 error :  0.05873655735464084\n",
      "step :  18000 error :  0.05208651592115453\n",
      "[0 0]  :  1\n",
      "[0 1]  :  0\n",
      "[1 0]  :  0\n",
      "[1 1]  :  0\n"
     ]
    }
   ],
   "source": [
    "xdata = np.array([[0,0],[0,1],[1,0],[1,1]])\n",
    "tdata = np.array([[1,0,0,0]])\n",
    "\n",
    "AND_gate = logicGate(\"AND_GATE\", xdata, tdata,)\n",
    "AND_gate.train()\n",
    "\n",
    "for in_data in xdata:\n",
    "    (sig_val, logic_val)=AND_gate.predict(in_data)\n",
    "    print(in_data, \" : \", logic_val)"
   ]
  },
  {
   "cell_type": "markdown",
   "id": "159ade86-6e21-4c8c-b131-c379de12464d",
   "metadata": {},
   "source": [
    "## AND"
   ]
  },
  {
   "cell_type": "code",
   "execution_count": 16,
   "id": "e4256281-c862-478a-bbaf-ad70f3af7c4e",
   "metadata": {},
   "outputs": [
    {
     "name": "stdout",
     "output_type": "stream",
     "text": [
      "init error:  4.685032094404281\n",
      "step :  0 error :  4.624783763996521\n",
      "step :  2000 error :  0.6589035905160179\n",
      "step :  4000 error :  0.3897872281320825\n",
      "step :  6000 error :  0.2746579544234582\n",
      "step :  8000 error :  0.21110527122487285\n",
      "step :  10000 error :  0.17101815463132788\n",
      "step :  12000 error :  0.14351564765931218\n",
      "step :  14000 error :  0.12351784575462273\n",
      "step :  16000 error :  0.10834325046686209\n",
      "step :  18000 error :  0.09644645735185511\n",
      "[0 0]  :  0\n",
      "[0 1]  :  0\n",
      "[1 0]  :  0\n",
      "[1 1]  :  1\n"
     ]
    }
   ],
   "source": [
    "xdata = np.array([[0,0],[0,1],[1,0],[1,1]])\n",
    "tdata = np.array([[0,0,0,1]])\n",
    "\n",
    "AND_gate = logicGate(\"AND_GATE\", xdata, tdata,)\n",
    "AND_gate.train()\n",
    "\n",
    "for in_data in xdata:\n",
    "    (sig_val, logic_val)=AND_gate.predict(in_data)\n",
    "    print(in_data, \" : \", logic_val)"
   ]
  },
  {
   "cell_type": "markdown",
   "id": "5c26e8a1-76a5-45a1-869f-7052125d29c7",
   "metadata": {},
   "source": [
    "## XOR"
   ]
  },
  {
   "cell_type": "code",
   "execution_count": 17,
   "id": "f42507e9-0a7a-4b1e-9e0f-7a8ac2d08327",
   "metadata": {},
   "outputs": [
    {
     "name": "stdout",
     "output_type": "stream",
     "text": [
      "init error:  3.5472592386705273\n",
      "step :  0 error :  3.528918523083182\n",
      "step :  2000 error :  2.772592940607865\n",
      "step :  4000 error :  2.772587927734585\n",
      "step :  6000 error :  2.7725879222497447\n",
      "step :  8000 error :  2.77258792223988\n",
      "step :  10000 error :  2.772587922239862\n",
      "step :  12000 error :  2.772587922239862\n",
      "step :  14000 error :  2.772587922239862\n",
      "step :  16000 error :  2.772587922239862\n",
      "step :  18000 error :  2.772587922239862\n",
      "[0 0]  :  0\n",
      "[0 1]  :  0\n",
      "[1 0]  :  0\n",
      "[1 1]  :  1\n"
     ]
    }
   ],
   "source": [
    "xdata = np.array([[0,0],[0,1],[1,0],[1,1]])\n",
    "tdata = np.array([[0,1,1,0]])\n",
    "\n",
    "AND_gate = logicGate(\"AND_GATE\", xdata, tdata,)\n",
    "AND_gate.train()\n",
    "\n",
    "for in_data in xdata:\n",
    "    (sig_val, logic_val)=AND_gate.predict(in_data)\n",
    "    print(in_data, \" : \", logic_val)"
   ]
  },
  {
   "cell_type": "code",
   "execution_count": null,
   "id": "c1f74922-c04f-4fb8-ae7a-9dcc5a6a257a",
   "metadata": {},
   "outputs": [],
   "source": []
  }
 ],
 "metadata": {
  "kernelspec": {
   "display_name": "Python 3 (ipykernel)",
   "language": "python",
   "name": "python3"
  },
  "language_info": {
   "codemirror_mode": {
    "name": "ipython",
    "version": 3
   },
   "file_extension": ".py",
   "mimetype": "text/x-python",
   "name": "python",
   "nbconvert_exporter": "python",
   "pygments_lexer": "ipython3",
   "version": "3.10.12"
  }
 },
 "nbformat": 4,
 "nbformat_minor": 5
}
