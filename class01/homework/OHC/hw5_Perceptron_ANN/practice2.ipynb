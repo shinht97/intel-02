{
 "cells": [
  {
   "cell_type": "code",
   "execution_count": 1,
   "id": "81f42de9-7c9d-43a2-8a99-682831259953",
   "metadata": {},
   "outputs": [],
   "source": [
    "import numpy as np"
   ]
  },
  {
   "cell_type": "code",
   "execution_count": 2,
   "id": "4b71b7fe-75f2-475d-b92f-edfa445e5f98",
   "metadata": {},
   "outputs": [],
   "source": [
    "def sigmoid(x):\n",
    "    return 1/(1+np.exp(-x))"
   ]
  },
  {
   "cell_type": "code",
   "execution_count": 20,
   "id": "63d8ddf3-47e1-4d27-bb6e-1c074d3be353",
   "metadata": {},
   "outputs": [],
   "source": [
    "def numerical_derivative(f,x):\n",
    "    delta_x=1e-4\n",
    "    gradf=np.zeros_like(x)\n",
    "\n",
    "    it = np.nditer(x,flags=['multi_index'],op_flags=['readwrite'])\n",
    "\n",
    "    while not it.finished:\n",
    "        idx=it.multi_index\n",
    "        tmp_val=x[idx]\n",
    "        x[idx]=float(tmp_val)+delta_x\n",
    "        fx1 = f(x)\n",
    "\n",
    "        x[idx] = float(tmp_val)-delta_x\n",
    "        fx2 = f(x)\n",
    "        gradf[idx] = (fx1-fx2)/(2*delta_x)\n",
    "\n",
    "        x[idx] = tmp_val\n",
    "        it.iternext()\n",
    "    return gradf"
   ]
  },
  {
   "cell_type": "code",
   "execution_count": 21,
   "id": "5edc85ff-b54e-419a-b4c8-4f19ee36e621",
   "metadata": {},
   "outputs": [],
   "source": [
    "class logicGate:\n",
    "    def __init__(self,gate_name,xdata,tdata,learning_rate=0.01,threshold=0.5):\n",
    "        self.name=gate_name\n",
    "\n",
    "        self.__xdata=xdata.reshape(4,2)\n",
    "        self.__tdata=tdata.reshape(4,1)\n",
    "\n",
    "        self.__w=np.random.rand(2,1)\n",
    "        self.__b=np.random.rand(1)\n",
    "\n",
    "        self.__learning_rate=learning_rate\n",
    "        self.__threshold=threshold\n",
    "\n",
    "    def __loss_func(self):\n",
    "        delta=1e-7\n",
    "\n",
    "        z=np.dot(self.__xdata,self.__w)+self.__b\n",
    "        y=sigmoid(z)\n",
    "\n",
    "        return -np.sum(self.__tdata*np.log(y+delta)+(1-self.__tdata)*np.log((1-y)+delta))\n",
    "\n",
    "    def err_val(self):\n",
    "        delta=1e-7\n",
    "\n",
    "        z=np.dot(self.__xdata,self.__w)+self.__b\n",
    "        y=sigmoid(z)\n",
    "\n",
    "        return -np.sum(self.__tdata*np.log(y+delta)+(1-self.__tdata)*np.log((1-y)+delta))\n",
    "    def train(self):\n",
    "\n",
    "        f=lambda x : self.__loss_func()\n",
    "\n",
    "        print(\"init error : \",self.err_val())\n",
    "\n",
    "        for stp in range(20000):\n",
    "            self.__w -= self.__learning_rate * numerical_derivative(f,self.__w)\n",
    "            self.__b -= self.__learning_rate * numerical_derivative(f,self.__b)\n",
    "\n",
    "            if(stp%2000 == 0):\n",
    "                print(\"step : \", stp, \"error : \", self.err_val())\n",
    "     \n",
    "    def predict(self, input_data):\n",
    "\n",
    "        z=np.dot(input_data,self.__w) + self.__b\n",
    "        y=sigmoid(z)\n",
    "\n",
    "        if y[0]>self.__threshold:\n",
    "            result = 1\n",
    "        else:\n",
    "            result = 0\n",
    "\n",
    "        return y, result"
   ]
  },
  {
   "cell_type": "markdown",
   "id": "bc1cb7f8-0fa0-430a-a5d1-8615c4a58409",
   "metadata": {},
   "source": [
    "### OR"
   ]
  },
  {
   "cell_type": "code",
   "execution_count": 22,
   "id": "62e16686-1bdc-4da5-aa5e-01e5475ce46a",
   "metadata": {},
   "outputs": [
    {
     "name": "stdout",
     "output_type": "stream",
     "text": [
      "init error :  2.6996711497392782\n",
      "step :  0 error :  2.69414628671459\n",
      "step :  2000 error :  0.6748537768682928\n",
      "step :  4000 error :  0.39545095896930327\n",
      "step :  6000 error :  0.27752439810345836\n",
      "step :  8000 error :  0.21282144348422266\n",
      "step :  10000 error :  0.17215499980620602\n",
      "step :  12000 error :  0.14432169089985514\n",
      "step :  14000 error :  0.12411796376419318\n",
      "step :  16000 error :  0.10880680958116021\n",
      "step :  18000 error :  0.0968149678596611\n",
      "[0 0]  :  1\n",
      "[0 1]  :  1\n",
      "[1 0]  :  1\n",
      "[1 1]  :  0\n"
     ]
    }
   ],
   "source": [
    "xdata=np.array([[0,0],[0,1],[1,0],[1,1]])\n",
    "tdata=np.array([[1,1,1,0]])\n",
    "\n",
    "AND_gate=logicGate(\"AND_GATE\",xdata,tdata,)\n",
    "AND_gate.train()\n",
    "\n",
    "for in_data in xdata:\n",
    "    (sig_wal,logic_val)=AND_gate.predict(in_data)\n",
    "    print(in_data, \" : \", logic_val)"
   ]
  },
  {
   "cell_type": "markdown",
   "id": "15eef046-d5ae-462c-9723-24902de4d346",
   "metadata": {},
   "source": [
    "### NAND"
   ]
  },
  {
   "cell_type": "code",
   "execution_count": 23,
   "id": "90cc21d2-7178-49f9-93e8-45d9a456d685",
   "metadata": {},
   "outputs": [
    {
     "name": "stdout",
     "output_type": "stream",
     "text": [
      "init error :  3.4629662549226805\n",
      "step :  0 error :  3.4123233905324506\n",
      "step :  2000 error :  0.43668140271154937\n",
      "step :  4000 error :  0.23416445092943264\n",
      "step :  6000 error :  0.1578355463097991\n",
      "step :  8000 error :  0.11844472369752372\n",
      "step :  10000 error :  0.09456839426561178\n",
      "step :  12000 error :  0.07860393047896501\n",
      "step :  14000 error :  0.06720002553363871\n",
      "step :  16000 error :  0.05865709552239739\n",
      "step :  18000 error :  0.05202385522779917\n",
      "[0 0]  :  1\n",
      "[0 1]  :  0\n",
      "[1 0]  :  0\n",
      "[1 1]  :  0\n"
     ]
    }
   ],
   "source": [
    "xdata=np.array([[0,0],[0,1],[1,0],[1,1]])\n",
    "tdata=np.array([[1,0,0,0]])\n",
    "\n",
    "AND_gate=logicGate(\"AND_GATE\",xdata,tdata,)\n",
    "AND_gate.train()\n",
    "\n",
    "for in_data in xdata:\n",
    "    (sig_wal,logic_val)=AND_gate.predict(in_data)\n",
    "    print(in_data, \" : \", logic_val)"
   ]
  },
  {
   "cell_type": "code",
   "execution_count": null,
   "id": "426136ac-2940-42fa-95fe-94e5c518cbac",
   "metadata": {},
   "outputs": [],
   "source": []
  }
 ],
 "metadata": {
  "kernelspec": {
   "display_name": "Python 3 (ipykernel)",
   "language": "python",
   "name": "python3"
  },
  "language_info": {
   "codemirror_mode": {
    "name": "ipython",
    "version": 3
   },
   "file_extension": ".py",
   "mimetype": "text/x-python",
   "name": "python",
   "nbconvert_exporter": "python",
   "pygments_lexer": "ipython3",
   "version": "3.10.12"
  }
 },
 "nbformat": 4,
 "nbformat_minor": 5
}
