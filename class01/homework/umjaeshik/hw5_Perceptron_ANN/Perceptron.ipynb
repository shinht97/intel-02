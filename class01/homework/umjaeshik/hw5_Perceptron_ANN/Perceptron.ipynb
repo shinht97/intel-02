{
 "cells": [
  {
   "cell_type": "code",
   "execution_count": 46,
   "id": "27ad0b22-5a83-4b0a-85ff-dfd9f246f731",
   "metadata": {},
   "outputs": [],
   "source": [
    "import numpy as np\n",
    "\n",
    "def sigmoid(x):\n",
    "    return 1/(1+np.exp(-x))\n",
    "    \n",
    "              \n",
    "\n",
    "def numerical_deribative(f,x):\n",
    "    \n",
    "    delta_x=1e-4\n",
    "    gradf = np.zeros_like(x)\n",
    "    \n",
    "    it = np.nditer(x,flags=['multi_index'],op_flags=['readwrite'])\n",
    "    \n",
    "    while not it.finished:\n",
    "        idx=it.multi_index\n",
    "        tmp_val = x[idx]\n",
    "        \n",
    "        x[idx] = float(tmp_val)+delta_x\n",
    "        fx1=f(x)\n",
    "        \n",
    "        x[idx] = float(tmp_val)-delta_x\n",
    "        fx2=f(x)\n",
    "        \n",
    "        gradf[idx]=(fx1-fx2)/(2*delta_x)\n",
    "        x[idx]=tmp_val\n",
    "        \n",
    "        it.iternext()\n",
    "    return gradf\n"
   ]
  },
  {
   "cell_type": "code",
   "execution_count": 50,
   "id": "743457e5-8aab-4aad-8c78-a591d6e42497",
   "metadata": {},
   "outputs": [],
   "source": [
    "class logicGate:\n",
    "    def __init__(self, gate_name, xdata, tdata, learning_rate=0.01, threshold=0.5):\n",
    "        self.name = gate_name\n",
    "\n",
    "        self.__xdata=xdata.reshape(4,2)\n",
    "        self.__tdata=tdata.reshape(4,1)\n",
    "\n",
    "        self.__w=np.random.rand(2,1)\n",
    "        self.__b=np.random.rand(1)\n",
    "\n",
    "        self.__learning_rate=learning_rate\n",
    "        self.__threshold=threshold\n",
    "\n",
    "    def __loss_func(self):\n",
    "        delta = 1e-7\n",
    "\n",
    "        z= np.dot(self.__xdata, self.__w)+self.__b\n",
    "        y=sigmoid(z)\n",
    "\n",
    "        return -np.sum(self.__tdata*np.log(y+delta)+(1-self.__tdata)*np.log((1-y)+delta))\n",
    "        \n",
    "    def err_val(self):\n",
    "        delta=1e-7\n",
    "\n",
    "        z=np.dot(self.__xdata, self.__w)+self.__b\n",
    "        y=sigmoid(z)\n",
    "\n",
    "        return -np.sum(self.__tdata*np.log(y+delta)+(1-self.__tdata)*np.log((1-y)+delta)) \n",
    "    \n",
    "    def train(self):\n",
    "        \n",
    "        f=lambda x: self.__loss_func()\n",
    "        \n",
    "        print(\"init error : \", self.err_val())\n",
    "    \n",
    "        for stp in range(20000):\n",
    "            self.__w -=self.__learning_rate*numerical_deribative(f, self.__w)\n",
    "            self.__b -=self.__learning_rate*numerical_deribative(f, self.__b)\n",
    "    \n",
    "            if(stp%2000 ==0):\n",
    "                print(\"setp : \", stp, \"error : \", self.err_val())\n",
    "\n",
    "    def predict (self, input_data):\n",
    "    \n",
    "        z=np.dot(input_data, self.__w) + self.__b\n",
    "        y=sigmoid(z)\n",
    "        #print(z,y,np.shape(self.__w)\n",
    "    \n",
    "        if y[0]>self.__threshold:\n",
    "            result = 1\n",
    "        else:\n",
    "            result = 0\n",
    "        #print(\"weighting : \", self.__w, \" b: \", self.__b)\n",
    "    \n",
    "        return y, result\n",
    "    "
   ]
  },
  {
   "cell_type": "code",
   "execution_count": 48,
   "id": "4906d941-274f-4048-9785-e4dfe5c986ba",
   "metadata": {},
   "outputs": [],
   "source": [
    "\n",
    "    "
   ]
  },
  {
   "cell_type": "markdown",
   "id": "2b246246-14ec-40a8-a2f8-db4f83c355eb",
   "metadata": {},
   "source": [
    "#OR gate\n"
   ]
  },
  {
   "cell_type": "code",
   "execution_count": 54,
   "id": "47480ccb-a14b-48e5-966f-1bc411c9b1d5",
   "metadata": {},
   "outputs": [
    {
     "name": "stdout",
     "output_type": "stream",
     "text": [
      "init error :  1.7494702784576228\n",
      "setp :  0 error :  1.7468359289196755\n",
      "setp :  2000 error :  0.4266699636789959\n",
      "setp :  4000 error :  0.23106798707440054\n",
      "setp :  6000 error :  0.156384267555377\n",
      "setp :  8000 error :  0.11761358813227532\n",
      "setp :  10000 error :  0.09403301602706794\n",
      "setp :  12000 error :  0.0782314290702703\n",
      "setp :  14000 error :  0.06692637729472413\n",
      "setp :  16000 error :  0.05844779751154029\n",
      "setp :  18000 error :  0.051858722701093304\n",
      "[0 0]  :  0\n",
      "[0 1]  :  1\n",
      "[1 0]  :  1\n",
      "[1 1]  :  1\n"
     ]
    }
   ],
   "source": [
    "xdata = np.array([[0,0],[0,1],[1,0],[1,1]])\n",
    "tdata = np.array([[0,1,1,1]])\n",
    "\n",
    "OR_gate = logicGate(\"OR_GATE\", xdata, tdata,)\n",
    "OR_gate.train()\n",
    "\n",
    "for in_data in xdata:\n",
    "    (sig_val, logic_val)=OR_gate.predict(in_data)\n",
    "    print(in_data, \" : \", logic_val)\n",
    "                    \n",
    "                    "
   ]
  },
  {
   "cell_type": "markdown",
   "id": "c472283f-6e4b-42c6-8c6f-d3c30c2696db",
   "metadata": {},
   "source": [
    "#and gate\n"
   ]
  },
  {
   "cell_type": "code",
   "execution_count": 57,
   "id": "9bb3ba7d-717a-49af-b70a-9ebf1ce68406",
   "metadata": {},
   "outputs": [
    {
     "name": "stdout",
     "output_type": "stream",
     "text": [
      "init error :  4.266369568256387\n",
      "setp :  0 error :  4.218263925654283\n",
      "setp :  2000 error :  0.6739690169365791\n",
      "setp :  4000 error :  0.39513658743311497\n",
      "setp :  6000 error :  0.27736584963197136\n",
      "setp :  8000 error :  0.21272671313194808\n",
      "setp :  10000 error :  0.1720923307574978\n",
      "setp :  12000 error :  0.14427729871174141\n",
      "setp :  14000 error :  0.12408493542811955\n",
      "setp :  16000 error :  0.10878131041479262\n",
      "setp :  18000 error :  0.09679470553898453\n",
      "[0 0]  :  0\n",
      "[0 1]  :  0\n",
      "[1 0]  :  0\n",
      "[1 1]  :  1\n"
     ]
    }
   ],
   "source": [
    "xdata = np.array([[0,0],[0,1],[1,0],[1,1]])\n",
    "tdata = np.array([[0,0,0,1]])\n",
    "\n",
    "AND_gate = logicGate(\"AND_GATE\", xdata, tdata,)\n",
    "AND_gate.train()\n",
    "\n",
    "for in_data in xdata:\n",
    "    (sig_val, logic_val)=AND_gate.predict(in_data)\n",
    "    print(in_data, \" : \", logic_val)\n",
    "                    "
   ]
  },
  {
   "cell_type": "markdown",
   "id": "f98412fe-6f1d-4bfb-a6a6-fd4081ad349c",
   "metadata": {},
   "source": [
    "#xor gate\n"
   ]
  },
  {
   "cell_type": "code",
   "execution_count": 58,
   "id": "e91d920c-2e09-4d9e-bdf3-1a60be0dea44",
   "metadata": {},
   "outputs": [
    {
     "name": "stdout",
     "output_type": "stream",
     "text": [
      "init error :  3.491449543997445\n",
      "setp :  0 error :  3.473953534509715\n",
      "setp :  2000 error :  2.7726193115651627\n",
      "setp :  4000 error :  2.772587979278252\n",
      "setp :  6000 error :  2.7725879223441576\n",
      "setp :  8000 error :  2.772587922240052\n",
      "setp :  10000 error :  2.772587922239862\n",
      "setp :  12000 error :  2.772587922239862\n",
      "setp :  14000 error :  2.7725879222398615\n",
      "setp :  16000 error :  2.7725879222398615\n",
      "setp :  18000 error :  2.7725879222398615\n",
      "[0 0]  :  0\n",
      "[0 1]  :  0\n",
      "[1 0]  :  0\n",
      "[1 1]  :  1\n"
     ]
    }
   ],
   "source": [
    "xdata = np.array([[0,0],[0,1],[1,0],[1,1]])\n",
    "tdata = np.array([[0,1,1,0]])\n",
    "\n",
    "XOR_gate = logicGate(\"OR_GATE\", xdata, tdata,)\n",
    "XOR_gate.train()\n",
    "\n",
    "for in_data in xdata:\n",
    "    (sig_val, logic_val)=XOR_gate.predict(in_data)\n",
    "    print(in_data, \" : \", logic_val)\n",
    "                    "
   ]
  },
  {
   "cell_type": "code",
   "execution_count": null,
   "id": "905432e7-19cb-4326-a081-63748d54cc7b",
   "metadata": {},
   "outputs": [],
   "source": []
  }
 ],
 "metadata": {
  "kernelspec": {
   "display_name": "Python 3 (ipykernel)",
   "language": "python",
   "name": "python3"
  },
  "language_info": {
   "codemirror_mode": {
    "name": "ipython",
    "version": 3
   },
   "file_extension": ".py",
   "mimetype": "text/x-python",
   "name": "python",
   "nbconvert_exporter": "python",
   "pygments_lexer": "ipython3",
   "version": "3.10.12"
  }
 },
 "nbformat": 4,
 "nbformat_minor": 5
}
