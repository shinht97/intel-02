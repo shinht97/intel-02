{
 "cells": [
  {
   "cell_type": "code",
   "execution_count": 1,
   "id": "926809a3-4f6d-4e69-ac96-b43ead948832",
   "metadata": {},
   "outputs": [],
   "source": [
    "import numpy as np"
   ]
  },
  {
   "cell_type": "code",
   "execution_count": 2,
   "id": "9603f475-738f-45c7-90fe-76121470ee65",
   "metadata": {},
   "outputs": [],
   "source": [
    "def sigmoid(x):\n",
    "    return 1/(1+np.exp(-x))"
   ]
  },
  {
   "cell_type": "code",
   "execution_count": 3,
   "id": "0f0ba9ea-b422-4c43-a6f2-b84a6202f2fd",
   "metadata": {},
   "outputs": [],
   "source": [
    "def numerical_derivative(f, x):\n",
    "    delta_x=1e-4\n",
    "    gradf=np.zeros_like(x)\n",
    "\n",
    "    it = np.nditer(x,flags=['multi_index'], op_flags=['readwrite'])\n",
    "\n",
    "    while not it.finished:\n",
    "        idx=it.multi_index\n",
    "        tmp_val=x[idx]\n",
    "        x[idx]=float(tmp_val)+delta_x\n",
    "        fx1=f(x)\n",
    "\n",
    "        x[idx]=float(tmp_val)-delta_x\n",
    "        fx2=f(x)\n",
    "        gradf[idx]=(fx1-fx2)/(2*delta_x)\n",
    "\n",
    "        x[idx]=tmp_val\n",
    "        it.iternext()\n",
    "    return gradf"
   ]
  },
  {
   "cell_type": "code",
   "execution_count": 6,
   "id": "22c7d1b3-42fc-45f0-bdfa-1e9f241cf7ce",
   "metadata": {},
   "outputs": [],
   "source": [
    "class logicGate:\n",
    "    def __init__(self, gate_name, xdata, tdata, learning_rate=0.01, threshold=0.5):\n",
    "        self.name=gate_name\n",
    "\n",
    "        self.__xdata=xdata.reshape(4,2)\n",
    "        self.__tdata=tdata.reshape(4,1)\n",
    "\n",
    "        self.__w=np.random.rand(2,1)\n",
    "        self.__b=np.random.rand(1)\n",
    "\n",
    "        self.__learning_rate=learning_rate\n",
    "        self.__threshold=threshold\n",
    "\n",
    "    def __loss_func(self):\n",
    "        delta=1e-7\n",
    "\n",
    "        z = np.dot(self.__xdata, self.__w)+self.__b\n",
    "        y=sigmoid(z)\n",
    "\n",
    "        return -np.sum(self.__tdata*np.log(y+delta)+(1-self.__tdata)*np.log((1-y)+delta))\n",
    "\n",
    "    def err_val(self):\n",
    "        delta=1e-7\n",
    "\n",
    "        z = np.dot(self.__xdata, self.__w)+self.__b\n",
    "        y = sigmoid(z)\n",
    "\n",
    "        return -np.sum(self.__tdata*np.log(y+delta)+(1-self.__tdata)*np.log((1-y)+delta))\n",
    "\n",
    "    def train(self):\n",
    "\n",
    "        f = lambda x : self.__loss_func()\n",
    "\n",
    "        print(\"init error :\",self.err_val())\n",
    "\n",
    "        for stp in range(20000):\n",
    "            self.__w -= self.__learning_rate * numerical_derivative(f,self.__w)\n",
    "            self.__b -= self.__learning_rate * numerical_derivative(f,self.__b)\n",
    "\n",
    "            if (stp%2000 == 0):\n",
    "                print(\"step : \", stp, \"error : \", self.err_val())\n",
    "\n",
    "    def predict(self, input_data):\n",
    "\n",
    "        z=np.dot(input_data, self.__w) + self.__b\n",
    "        y=sigmoid(z)\n",
    "\n",
    "        if y[0]>self.__threshold:\n",
    "            result = 1\n",
    "        else:\n",
    "            result = 0\n",
    "\n",
    "        return y, result"
   ]
  },
  {
   "cell_type": "code",
   "execution_count": 8,
   "id": "ceadef35-b518-46b2-8599-6ddf8ba7ab67",
   "metadata": {},
   "outputs": [
    {
     "name": "stdout",
     "output_type": "stream",
     "text": [
      "init error : 2.9284478270460554\n",
      "step :  0 error :  2.9184149984396734\n",
      "step :  2000 error :  0.6752514085022618\n",
      "step :  4000 error :  0.3955930568632786\n",
      "step :  6000 error :  0.2775960485796892\n",
      "step :  8000 error :  0.21286424633965087\n",
      "step :  10000 error :  0.17218331294722586\n",
      "step :  12000 error :  0.14434174519380755\n",
      "step :  14000 error :  0.12413288354042126\n",
      "step :  16000 error :  0.10881832771786992\n",
      "step :  18000 error :  0.09682412015644114\n",
      "[0 0]  :  1\n",
      "[0 1]  :  1\n",
      "[1 0]  :  1\n",
      "[1 1]  :  0\n"
     ]
    }
   ],
   "source": [
    "xdata=np.array([[0,0],[0,1],[1,0],[1,1]])\n",
    "tdata=np.array([[1,1,1,0]])\n",
    "\n",
    "AND_gate = logicGate(\"AND_GATE\", xdata, tdata,)\n",
    "AND_gate.train()\n",
    "\n",
    "for in_data in xdata:\n",
    "    (sig_val, logic_val)=AND_gate.predict(in_data)\n",
    "    print(in_data , \" : \", logic_val)"
   ]
  }
 ],
 "metadata": {
  "kernelspec": {
   "display_name": "Python 3 (ipykernel)",
   "language": "python",
   "name": "python3"
  },
  "language_info": {
   "codemirror_mode": {
    "name": "ipython",
    "version": 3
   },
   "file_extension": ".py",
   "mimetype": "text/x-python",
   "name": "python",
   "nbconvert_exporter": "python",
   "pygments_lexer": "ipython3",
   "version": "3.10.12"
  }
 },
 "nbformat": 4,
 "nbformat_minor": 5
}
