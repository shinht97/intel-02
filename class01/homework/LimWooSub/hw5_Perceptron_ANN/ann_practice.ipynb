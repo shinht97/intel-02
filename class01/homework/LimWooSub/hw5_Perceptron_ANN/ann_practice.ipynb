{
 "cells": [
  {
   "cell_type": "code",
   "execution_count": 12,
   "id": "4897017e-3a34-4bc6-891b-9a7a4b3d825e",
   "metadata": {},
   "outputs": [],
   "source": [
    "#perceptron 실습\n",
    "import numpy as np"
   ]
  },
  {
   "cell_type": "code",
   "execution_count": 13,
   "id": "ec8832ec-4463-47df-83fd-ba7b9eb97637",
   "metadata": {},
   "outputs": [],
   "source": [
    "def sigmoid(x):\n",
    "    return 1/(1+np.exp(-x))"
   ]
  },
  {
   "cell_type": "code",
   "execution_count": 14,
   "id": "80ddf195-c3f1-48bc-aebf-4e88e1bd2282",
   "metadata": {},
   "outputs": [],
   "source": [
    "def numerical_derivative(f,x):\n",
    "    delta_x = 1e-4\n",
    "    gradf = np.zeros_like(x)\n",
    "\n",
    "    it = np.nditer(x,flags=['multi_index'],op_flags=['readwrite'])\n",
    "\n",
    "    while not it.finished:\n",
    "        idx = it.multi_index\n",
    "        tmp_val = x[idx]\n",
    "        x[idx]= float(tmp_val) +delta_x\n",
    "        fx1=f(x)\n",
    "        \n",
    "        x[idx]= float(tmp_val) -delta_x\n",
    "        fx2=f(x)\n",
    "        gradf[idx] = (fx1 -fx2)/(2*delta_x)\n",
    "\n",
    "        x[idx] = tmp_val\n",
    "        it.iternext()\n",
    "    return gradf\n",
    "\n",
    "        "
   ]
  },
  {
   "cell_type": "code",
   "execution_count": 16,
   "id": "33af7327-6e65-4792-bd91-558420ac3793",
   "metadata": {},
   "outputs": [],
   "source": [
    "class logicGate:\n",
    "    def __init__(self, gate_name, xdata,tdata,learning_rate=0.01, threshold=0.5):\n",
    "        self.name=gate_name\n",
    "\n",
    "        self.__xdata=xdata.reshape(4,2)\n",
    "        self.__tdata=tdata.reshape(4,1)\n",
    "\n",
    "        self.__w=np.random.rand(2,1)\n",
    "        self.__b=np.random.rand(1)\n",
    "\n",
    "        self.__learning_rate=learning_rate\n",
    "        self.__threshold=threshold\n",
    "\n",
    "    def __loss_func(self):\n",
    "        delta=1e-7\n",
    "\n",
    "        z=np.dot(self.__xdata, self.__w)+self.__b\n",
    "        y=sigmoid(z)\n",
    "\n",
    "        return -np.sum(self.__tdata*np.log(y+delta)+(1-self.__tdata)*np.log((1-y)+delta))\n",
    "    def err_val(self):\n",
    "        delta = 1e-7\n",
    "\n",
    "        z=np.dot(self.__xdata,self.__w)+self.__b\n",
    "        y=sigmoid(z)\n",
    "\n",
    "        return -np.sum(self.__tdata*np.log(y+delta)+(1-self.__tdata)*np.log((1-y)+delta))\n",
    "\n",
    "    def train(self):\n",
    "\n",
    "        f=lambda x: self.__loss_func()\n",
    "\n",
    "        print('init error:',self.err_val())\n",
    "\n",
    "        for stp in range(20000):\n",
    "            self.__w -= self.__learning_rate * numerical_derivative(f,self.__w)\n",
    "            self.__b -= self.__learning_rate * numerical_derivative(f,self.__b)\n",
    "\n",
    "            if (stp%2000 ==0):\n",
    "                print('step:', stp,'error:',self.err_val())\n",
    "\n",
    "    def predict(self, input_data):\n",
    "        z=np.dot(input_data, self.__w) +self.__b\n",
    "        y= sigmoid(z)\n",
    "        #print(z,y,np.shape(self.__w))\n",
    "\n",
    "        if y[0]>self.__threshold:\n",
    "            result = 1\n",
    "        else:\n",
    "            result =0\n",
    "        #print('weighting:', self.__w,'b:',self.__b)\n",
    "\n",
    "        return y, result"
   ]
  },
  {
   "cell_type": "code",
   "execution_count": 19,
   "id": "47451841-22fd-472c-8b38-6b97b7494d75",
   "metadata": {},
   "outputs": [
    {
     "name": "stdout",
     "output_type": "stream",
     "text": [
      "init error: 2.5138242652449025\n",
      "step: 0 error: 2.507020061860625\n",
      "step: 2000 error: 0.6585945530040838\n",
      "step: 4000 error: 0.38967521784587056\n",
      "step: 6000 error: 0.2746010289021531\n",
      "step: 8000 error: 0.21107111306099552\n",
      "step: 10000 error: 0.17099549471623038\n",
      "step: 12000 error: 0.1434995652492222\n",
      "step: 14000 error: 0.12350586314589229\n",
      "step: 16000 error: 0.10833398926719609\n",
      "step: 18000 error: 0.09643909175448376\n",
      "[0 0] : 1\n",
      "[0 1] : 1\n",
      "[1 0] : 1\n",
      "[1 1] : 0\n"
     ]
    }
   ],
   "source": [
    "#NAND\n",
    "xdata = np.array([[0,0],[0,1],[1,0],[1,1]])\n",
    "tdata=np.array([[1,1,1,0]])\n",
    "\n",
    "AND_gate = logicGate('AND_GATE',xdata,tdata,)\n",
    "AND_gate.train()\n",
    "\n",
    "for in_data in xdata:\n",
    "    (sig_val, logic_val) = AND_gate.predict(in_data)\n",
    "    print(in_data,':', logic_val)"
   ]
  },
  {
   "cell_type": "code",
   "execution_count": 24,
   "id": "5c3aabcc-f9a3-48cd-864b-4ab711941564",
   "metadata": {},
   "outputs": [
    {
     "name": "stdout",
     "output_type": "stream",
     "text": [
      "init error: 6.375021002313227\n",
      "step: 0 error: 6.267224967778917\n",
      "step: 2000 error: 0.4588091367122926\n",
      "step: 4000 error: 0.24081858003563697\n",
      "step: 6000 error: 0.16091750354842738\n",
      "step: 8000 error: 0.12019833487866961\n",
      "step: 10000 error: 0.09569340969191724\n",
      "step: 12000 error: 0.07938451644024516\n",
      "step: 14000 error: 0.06777230967292854\n",
      "step: 16000 error: 0.059094136660234005\n",
      "step: 18000 error: 0.052368261923911606\n",
      "[0 0] : 1\n",
      "[0 1] : 0\n",
      "[1 0] : 0\n",
      "[1 1] : 0\n"
     ]
    }
   ],
   "source": [
    "#NOR\n",
    "xdata = np.array([[0,0],[0,1],[1,0],[1,1]])\n",
    "tdata=np.array([[1,0,0,0]])\n",
    "\n",
    "AND_gate = logicGate('AND_GATE',xdata,tdata,)\n",
    "AND_gate.train()\n",
    "\n",
    "for in_data in xdata:\n",
    "    (sig_val, logic_val) = AND_gate.predict(in_data)\n",
    "    print(in_data,':', logic_val)"
   ]
  },
  {
   "cell_type": "code",
   "execution_count": null,
   "id": "b268ba94-f9ef-48f4-a8ac-bcd703acb8ff",
   "metadata": {},
   "outputs": [],
   "source": [
    "#"
   ]
  }
 ],
 "metadata": {
  "kernelspec": {
   "display_name": "Python 3 (ipykernel)",
   "language": "python",
   "name": "python3"
  },
  "language_info": {
   "codemirror_mode": {
    "name": "ipython",
    "version": 3
   },
   "file_extension": ".py",
   "mimetype": "text/x-python",
   "name": "python",
   "nbconvert_exporter": "python",
   "pygments_lexer": "ipython3",
   "version": "3.10.12"
  }
 },
 "nbformat": 4,
 "nbformat_minor": 5
}
