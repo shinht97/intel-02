{
 "cells": [
  {
   "cell_type": "code",
   "execution_count": 18,
   "id": "9ec1da10-4783-48fc-8585-de190c26060c",
   "metadata": {},
   "outputs": [],
   "source": [
    "import numpy as np"
   ]
  },
  {
   "cell_type": "code",
   "execution_count": 7,
   "id": "1ce4cb1b-e5d4-4a47-8a99-81a10d32bbd1",
   "metadata": {},
   "outputs": [],
   "source": [
    "def sigmoid(x):\n",
    "    return 1/(1+np.exp(-x))"
   ]
  },
  {
   "cell_type": "code",
   "execution_count": 11,
   "id": "5f794172-62d8-427d-b5e2-f1867e4d4247",
   "metadata": {},
   "outputs": [],
   "source": [
    "def numerical_derivative(f,x):\n",
    "    delta_x = 1e-4\n",
    "    gradf = np.zeros_like(x)    \n",
    "    it = np.nditer(x, flags = ['multi_index'],op_flags=['readwrite'])    \n",
    "    while not it.finished:\n",
    "        idx = it.multi_index\n",
    "        tmp_val = x[idx]\n",
    "        x[idx] = float(tmp_val) + delta_x\n",
    "        fx1 = f(x)        \n",
    "        x[idx] = float(tmp_val)-delta_x\n",
    "        fx2 = f(x)\n",
    "        gradf[idx] = (fx1 - fx2) / (2*delta_x)        \n",
    "        x[idx] = tmp_val\n",
    "        it.iternext()\n",
    "    return gradf"
   ]
  },
  {
   "cell_type": "code",
   "execution_count": 14,
   "id": "5310b8aa-5503-45e6-86a9-95c8a48c3aa4",
   "metadata": {},
   "outputs": [],
   "source": [
    "class logicGate:\n",
    "    def __init__(self,gate_name,xdata,tdata,learning_rate = 0.01, threshold = 0.5):\n",
    "        self.name = gate_name        \n",
    "        self.__xdata = xdata.reshape(4,2)\n",
    "        self.__tdata = tdata.reshape(4,1)        \n",
    "        self.__w=np.random.rand(2,1)\n",
    "        self.__b=np.random.rand(1)        \n",
    "        self.__learning_rate = learning_rate\n",
    "        self.__threshold = threshold    \n",
    "        def __loss_func(self):\n",
    "            delta = 1e-7        \n",
    "            z = np.dot(self.__xdata, self.__w) + self.__b\n",
    "            y = sigmoid(z)        \n",
    "            return -np.sum(self.__tdata * np.log(y+delta) + (1-self.__tdata) * np.log((1-y) + delta))    \n",
    "        def err_val(self):\n",
    "            delta = 1e-7        \n",
    "            z = np.dot(self.__xdata, self.__w) + self.__b\n",
    "            y = sigmoid(z)        \n",
    "            return -np.sum(self.__tdata * np.log(y+delta) + (1 - self.__tdata) * np.log((1-y) + delta))    \n",
    "        def train(self):        \n",
    "            f = lambda x : self.__loss_func()        \n",
    "            print(\"init error : \" ,self.err_val())        \n",
    "            for stp in range(20000):\n",
    "                self.__w -= self.__learning_rate * numerical_derivative(f,self.__w)\n",
    "                self.__b -= self.__learning_rate * numerical_derivative(f,self.__b)            \n",
    "                if (stp % 2000 == 0):\n",
    "                    print(\"step : \", stp, \"error : \", self.err_val())    \n",
    "        def predict(self, input_data):        \n",
    "            z = np.dot(input_data, self.__w) + self.__b\n",
    "            y = sigmoid(z)\n",
    "        #print(z,y,np.shepe(self.__w))        \n",
    "            if y[0] > self.__threshold:\n",
    "                result = 1\n",
    "            else :\n",
    "                result = 0\n",
    "        #print(\"weighting : \", self.__w, \"b : \",self.__b)        \n",
    "            return y, result"
   ]
  },
  {
   "cell_type": "code",
   "execution_count": 20,
   "id": "5f7358bb-e6b8-400a-9091-d40e92fc215f",
   "metadata": {},
   "outputs": [
    {
     "ename": "AttributeError",
     "evalue": "'logicGate' object has no attribute 'train'",
     "output_type": "error",
     "traceback": [
      "\u001b[0;31m---------------------------------------------------------------------------\u001b[0m",
      "\u001b[0;31mAttributeError\u001b[0m                            Traceback (most recent call last)",
      "Cell \u001b[0;32mIn[20], line 4\u001b[0m\n\u001b[1;32m      2\u001b[0m tdata \u001b[38;5;241m=\u001b[39m np\u001b[38;5;241m.\u001b[39marray([[\u001b[38;5;241m1\u001b[39m,\u001b[38;5;241m1\u001b[39m,\u001b[38;5;241m1\u001b[39m,\u001b[38;5;241m0\u001b[39m]])\n\u001b[1;32m      3\u001b[0m AND_gate \u001b[38;5;241m=\u001b[39m logicGate(\u001b[38;5;124m\"\u001b[39m\u001b[38;5;124mAND_GATE\u001b[39m\u001b[38;5;124m\"\u001b[39m, xdata,tdata,)\n\u001b[0;32m----> 4\u001b[0m \u001b[43mAND_gate\u001b[49m\u001b[38;5;241;43m.\u001b[39;49m\u001b[43mtrain\u001b[49m()\n\u001b[1;32m      5\u001b[0m \u001b[38;5;28;01mfor\u001b[39;00m in_data \u001b[38;5;129;01min\u001b[39;00m xdata:\n\u001b[1;32m      6\u001b[0m     (sig_val, logic_val) \u001b[38;5;241m=\u001b[39m AND_gate\u001b[38;5;241m.\u001b[39mpredict(in_data)\n",
      "\u001b[0;31mAttributeError\u001b[0m: 'logicGate' object has no attribute 'train'"
     ]
    }
   ],
   "source": [
    "xdata = np.array([[0,0], [0,1], [1,0], [1,1]])\n",
    "tdata = np.array([[1,1,1,0]])\n",
    "AND_gate = logicGate(\"AND_GATE\", xdata,tdata,)\n",
    "AND_gate.train()\n",
    "for in_data in xdata:\n",
    "    (sig_val, logic_val) = AND_gate.predict(in_data)\n",
    "    print(in_data , \" : \" , logic_val)"
   ]
  },
  {
   "cell_type": "code",
   "execution_count": null,
   "id": "5a89ad27-1554-4067-b65a-4e0b62adfe08",
   "metadata": {},
   "outputs": [],
   "source": []
  }
 ],
 "metadata": {
  "kernelspec": {
   "display_name": "Python 3 (ipykernel)",
   "language": "python",
   "name": "python3"
  },
  "language_info": {
   "codemirror_mode": {
    "name": "ipython",
    "version": 3
   },
   "file_extension": ".py",
   "mimetype": "text/x-python",
   "name": "python",
   "nbconvert_exporter": "python",
   "pygments_lexer": "ipython3",
   "version": "3.10.12"
  }
 },
 "nbformat": 4,
 "nbformat_minor": 5
}
