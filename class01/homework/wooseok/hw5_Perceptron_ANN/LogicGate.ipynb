{
 "cells": [
  {
   "cell_type": "code",
   "execution_count": 33,
   "id": "7471a768-118d-46be-bc84-b742cb7b366d",
   "metadata": {},
   "outputs": [],
   "source": [
    "import numpy as np"
   ]
  },
  {
   "cell_type": "code",
   "execution_count": 34,
   "id": "70859523-2892-47c0-be11-be2889e001c3",
   "metadata": {},
   "outputs": [],
   "source": [
    "def sigmoid(x):\n",
    "    return 1/(1+np.exp(-x))"
   ]
  },
  {
   "cell_type": "code",
   "execution_count": 35,
   "id": "851d6c90-644f-4e9f-b8f3-7521f18c1728",
   "metadata": {},
   "outputs": [],
   "source": [
    "def numerical_derivative(f,x):\n",
    "    delta_x = 1e-4\n",
    "    gradf=np.zeros_like(x)\n",
    "    it = np.nditer(x,flags=['multi_index'],op_flags=['readwrite'])\n",
    "    while not it.finished:\n",
    "        idx  = it.multi_index\n",
    "        tmp_val = x[idx]\n",
    "        x[idx]=float(tmp_val)+delta_x\n",
    "        fx1=f(x)\n",
    "\n",
    "        x[idx]=float(tmp_val)-delta_x\n",
    "        fx2=f(x)\n",
    "        gradf[idx] = (fx1-fx2)/(2*delta_x)\n",
    "        x[idx]=tmp_val\n",
    "        it.iternext()\n",
    "    return gradf\n"
   ]
  },
  {
   "cell_type": "code",
   "execution_count": 36,
   "id": "3e97ec87-bc43-4d10-adae-a2acd7462357",
   "metadata": {},
   "outputs": [],
   "source": [
    "class logicGate:\n",
    "    def __init__(self,gate_name,xdata,tdata,learning_rate=0.01,threshold=0.5):\n",
    "        self.name=gate_name\n",
    "        self.__xdata=xdata.reshape(4,2)\n",
    "        self.__tdata=tdata.reshape(4,1)\n",
    "        self.__w=np.random.rand(2,1)\n",
    "        self.__b=np.random.rand(1)\n",
    "\n",
    "        self.__learning_rate=learning_rate\n",
    "        self.__threshold=threshold\n",
    "        \n",
    "    def __loss_func(self):\n",
    "        delta=1e-7\n",
    "        z=np.dot(self.__xdata,self.__w)+self.__b\n",
    "        y=sigmoid(z)\n",
    "        return -np.sum(self.__tdata*np.log(y+delta)+(1-self.__tdata)*np.log((1-y)+delta))\n",
    "        \n",
    "    def err_val(self):\n",
    "        delta=1e-7\n",
    "        z=np.dot(self.__xdata,self.__w)+self.__b\n",
    "        y=sigmoid(z)\n",
    "        return -np.sum(self.__tdata*np.log(y+delta)+(1-self.__tdata)*np.log((1-y)+delta))\n",
    "\n",
    "    def train(self):\n",
    "        f = lambda x : self.__loss_func()\n",
    "        print(\"init error : \",self.err_val())\n",
    "        for stp in range(20000):\n",
    "            self.__w -= self.__learning_rate * numerical_derivative(f,self.__w)\n",
    "            self.__b -= self.__learning_rate * numerical_derivative(f,self.__b)\n",
    "            if (stp%2000==0):\n",
    "                print(\"step : \",stp,\"error : \",self.err_val())\n",
    "\n",
    "    def predict(self,input_data):\n",
    "        z = np.dot(input_data,self.__w) + self.__b\n",
    "        y=sigmoid(z)\n",
    "        #print(z,y,np.shape(self.__w))\n",
    "        if y[0]>self.__threshold:\n",
    "            result =1\n",
    "        else :\n",
    "            result = 0\n",
    "        #print(\"weighting : \", self.__w,\"b : \",self.__b)\n",
    "        return y,result\n",
    "               \n",
    "        "
   ]
  },
  {
   "cell_type": "code",
   "execution_count": 40,
   "id": "39370b8e-c673-4905-98a0-61d02673582e",
   "metadata": {},
   "outputs": [
    {
     "name": "stdout",
     "output_type": "stream",
     "text": [
      "init error :  4.170012360575743\n",
      "step :  0 error :  4.0975512051293785\n",
      "step :  2000 error :  0.43122549295226154\n",
      "step :  4000 error :  0.232486174135414\n",
      "step :  6000 error :  0.15705048388035966\n",
      "step :  8000 error :  0.11799557925781005\n",
      "step :  10000 error :  0.09427925652335312\n",
      "step :  12000 error :  0.07840284113308153\n",
      "step :  14000 error :  0.06705234551238837\n",
      "step :  16000 error :  0.058544169399146084\n",
      "step :  18000 error :  0.051934774463217696\n",
      "[0 0]  :  1\n",
      "[0 1]  :  0\n",
      "[1 0]  :  0\n",
      "[1 1]  :  0\n"
     ]
    }
   ],
   "source": [
    "###OR\n",
    "\n",
    "xdata = np.array([[0,0],[0,1],[1,0],[1,1]])\n",
    "\n",
    "\n",
    "# tdata = np.array([[1,1,1,0]])\n",
    "# NAND_gate = logicGate(\"NAND_GATE\",xdata,tdata)\n",
    "# NAND_gate.train()\n",
    "\n",
    "# tdata = np.array([[0,1,1,0]])\n",
    "# XOR_gate = logicGate(\"XOR_GATE\",xdata,tdata)\n",
    "# XOR_gate.train()\n",
    "\n",
    "tdata = np.array([[1,0,0,0]])\n",
    "NOR_gate = logicGate(\"NOR_GATE\",xdata,tdata)\n",
    "NOR_gate.train()\n",
    "\n",
    "for in_data in xdata:\n",
    "    (sig_val,logic_val)=NOR_gate.predict(in_data)\n",
    "    print(in_data ,\" : \",logic_val)\n",
    "    "
   ]
  },
  {
   "cell_type": "code",
   "execution_count": null,
   "id": "0e65f000-7dc0-475e-8b36-ac5d0c215e70",
   "metadata": {},
   "outputs": [],
   "source": []
  },
  {
   "cell_type": "code",
   "execution_count": null,
   "id": "e57a3b46-4cf7-40fc-8f38-5aaeb91b5a34",
   "metadata": {},
   "outputs": [],
   "source": []
  },
  {
   "cell_type": "code",
   "execution_count": null,
   "id": "68dee491-6fdf-4e45-89c2-cd7e2d49c0ac",
   "metadata": {},
   "outputs": [],
   "source": []
  }
 ],
 "metadata": {
  "kernelspec": {
   "display_name": "Python 3 (ipykernel)",
   "language": "python",
   "name": "python3"
  },
  "language_info": {
   "codemirror_mode": {
    "name": "ipython",
    "version": 3
   },
   "file_extension": ".py",
   "mimetype": "text/x-python",
   "name": "python",
   "nbconvert_exporter": "python",
   "pygments_lexer": "ipython3",
   "version": "3.10.12"
  }
 },
 "nbformat": 4,
 "nbformat_minor": 5
}
