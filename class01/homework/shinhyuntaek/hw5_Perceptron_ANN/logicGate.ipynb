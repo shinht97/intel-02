{
 "cells": [
  {
   "cell_type": "code",
   "execution_count": 1,
   "id": "efa82a1b-3cac-4a43-8d2d-3d852582569c",
   "metadata": {},
   "outputs": [],
   "source": [
    "import numpy as np"
   ]
  },
  {
   "cell_type": "code",
   "execution_count": 2,
   "id": "cf038d49-75b3-4cb6-a928-29f28477d89d",
   "metadata": {},
   "outputs": [],
   "source": [
    "def sigmoid(x):\n",
    "    return 1 / (1 + np.exp(-x))"
   ]
  },
  {
   "cell_type": "code",
   "execution_count": 3,
   "id": "b7a57b0a-40cb-47ff-9944-74337a3ac13b",
   "metadata": {},
   "outputs": [],
   "source": [
    "def numerical_derivative(f, x):\n",
    "    delta_x = 1e-4\n",
    "    gradf = np.zeros_like(x)\n",
    "\n",
    "    it = np.nditer(x, flags = [\"multi_index\"], op_flags = [\"readwrite\"])\n",
    "\n",
    "    while not it.finished:\n",
    "        idx = it.multi_index\n",
    "        \n",
    "        tmp_val = x[idx]\n",
    "        \n",
    "        x[idx] = float(tmp_val) + delta_x\n",
    "        fx1 = f(x)\n",
    "\n",
    "        x[idx] = float(tmp_val) - delta_x\n",
    "        fx2 = f(x)\n",
    "        \n",
    "        gradf[idx] = (fx1 - fx2) / (2 * delta_x)\n",
    "\n",
    "        x[idx] = tmp_val\n",
    "        it.iternext()\n",
    "        \n",
    "    return gradf"
   ]
  },
  {
   "cell_type": "code",
   "execution_count": 18,
   "id": "ccc31d32-a5f8-4b53-a663-0b2e7a2ebf04",
   "metadata": {},
   "outputs": [],
   "source": [
    "class logicGate:\n",
    "    def __init__(self, gate_name, xdata, tdata, learning_rate = 0.01, threshold = 0.5):\n",
    "        self.name = gate_name\n",
    "\n",
    "        self.__xdata = xdata.reshape(4, 2)\n",
    "        self.__tdata = tdata.reshape(4, 1)\n",
    "\n",
    "        self.__w = np.random.rand(2, 1)\n",
    "        self.__b = np.random.rand(1)\n",
    "\n",
    "        self.__learning_rate = learning_rate\n",
    "        self.__threshold = threshold\n",
    "\n",
    "    def __loss_func(self):\n",
    "        delta = 1e-7\n",
    "\n",
    "        z = np.dot(self.__xdata, self.__w) + self.__b\n",
    "        y = sigmoid(z)\n",
    "\n",
    "        return -np.sum(self.__tdata * np.log(y + delta) + (1 - self.__tdata) * np.log((1-y) + delta))\n",
    "\n",
    "    def err_val(self):\n",
    "        delta = 1e-7\n",
    "\n",
    "        z = np.dot(self.__xdata, self.__w) + self.__b\n",
    "        y = sigmoid(z)\n",
    "\n",
    "        return -np.sum(self.__tdata * np.log(y + delta) + (1 - self.__tdata) * np.log((1 - y) + delta))\n",
    "\n",
    "    def train(self):\n",
    "        f = lambda x : self.__loss_func()\n",
    "\n",
    "        print(\"init error : \", self.err_val())\n",
    "\n",
    "        for step in range(20000):\n",
    "            self.__w -= self.__learning_rate * numerical_derivative(f, self.__w)\n",
    "            self.__b -= self.__learning_rate * numerical_derivative(f, self.__b)\n",
    "\n",
    "            if step % 2000 == 0:\n",
    "                print(f\"step : {step}, error : {self.err_val()}\")\n",
    "\n",
    "    def predict(self, input_data):\n",
    "        z = np.dot(input_data, self.__w) + self.__b\n",
    "        y = sigmoid(z)\n",
    "\n",
    "        if y[0] > self.__threshold:\n",
    "            result = 1\n",
    "        else:\n",
    "            result = 0\n",
    "\n",
    "        return y, result"
   ]
  },
  {
   "cell_type": "markdown",
   "id": "970bc099-4650-4583-8d91-d73b6d84b83e",
   "metadata": {},
   "source": [
    "### AND GATE"
   ]
  },
  {
   "cell_type": "code",
   "execution_count": 22,
   "id": "a1c1a0c3-1e7c-47de-9b7b-736f286184a1",
   "metadata": {},
   "outputs": [
    {
     "name": "stdout",
     "output_type": "stream",
     "text": [
      "init error :  4.036902730533141\n",
      "step : 0, error : 3.9924658014989545\n",
      "step : 2000, error : 0.6701301228302328\n",
      "step : 4000, error : 0.3937822632749324\n",
      "step : 6000, error : 0.2766821538640317\n",
      "step : 8000, error : 0.21231795732412861\n",
      "step : 10000, error : 0.171821806319012\n",
      "step : 12000, error : 0.14408561507988826\n",
      "step : 14000, error : 0.12394229010128757\n",
      "step : 16000, error : 0.10867116464910745\n",
      "step : 18000, error : 0.09670716943561423\n",
      "[0 0] : 0\n",
      "[0 1] : 0\n",
      "[1 0] : 0\n",
      "[1 1] : 1\n"
     ]
    }
   ],
   "source": [
    "xdata = np.array([[0,0], [0, 1], [1, 0], [1, 1]])\n",
    "tdata = np.array([[0, 0, 0, 1]])\n",
    "\n",
    "AND_gate = logicGate(\"XOR_GATE\", xdata, tdata)\n",
    "AND_gate.train()\n",
    "\n",
    "for in_data in xdata:\n",
    "    (sig_val, logic_val) = AND_gate.predict(in_data)\n",
    "    print(f\"{in_data} : {logic_val}\")"
   ]
  },
  {
   "cell_type": "markdown",
   "id": "637c4f04-21e4-4a6e-b1a6-eecf07d160ce",
   "metadata": {},
   "source": [
    "### OR GATE"
   ]
  },
  {
   "cell_type": "code",
   "execution_count": 24,
   "id": "9781b34d-4b5c-4705-bd99-d49f1ee93884",
   "metadata": {},
   "outputs": [
    {
     "name": "stdout",
     "output_type": "stream",
     "text": [
      "init error :  1.7123551372339683\n",
      "step : 0, error : 1.7068816215781417\n",
      "step : 2000, error : 0.410621050862457\n",
      "step : 4000, error : 0.22596066914266144\n",
      "step : 6000, error : 0.1539643473156125\n",
      "step : 8000, error : 0.11621968117874201\n",
      "step : 10000, error : 0.09313189815673842\n",
      "step : 12000, error : 0.0776029225974539\n",
      "step : 14000, error : 0.06646384448077876\n",
      "step : 16000, error : 0.05809355852934418\n",
      "step : 18000, error : 0.05157894119096066\n",
      "[0 0] : 0\n",
      "[0 1] : 1\n",
      "[1 0] : 1\n",
      "[1 1] : 1\n"
     ]
    }
   ],
   "source": [
    "xdata = np.array([[0,0], [0, 1], [1, 0], [1, 1]])\n",
    "tdata = np.array([[0, 1, 1, 1]])\n",
    "\n",
    "AND_gate = logicGate(\"XOR_GATE\", xdata, tdata)\n",
    "AND_gate.train()\n",
    "\n",
    "for in_data in xdata:\n",
    "    (sig_val, logic_val) = AND_gate.predict(in_data)\n",
    "    print(f\"{in_data} : {logic_val}\")"
   ]
  },
  {
   "cell_type": "markdown",
   "id": "17b92fa6-50a2-43f1-80d7-8d9cde47f995",
   "metadata": {},
   "source": [
    "### NAND_GATE"
   ]
  },
  {
   "cell_type": "code",
   "execution_count": 23,
   "id": "d1dbe999-b8cd-43d5-bf20-be0cafe892e1",
   "metadata": {},
   "outputs": [
    {
     "name": "stdout",
     "output_type": "stream",
     "text": [
      "init error :  3.1733479074683766\n",
      "step : 0, error : 3.167007631466002\n",
      "step : 2000, error : 0.6998910782041108\n",
      "step : 4000, error : 0.4041233189427647\n",
      "step : 6000, error : 0.2818706224053936\n",
      "step : 8000, error : 0.215409375636409\n",
      "step : 10000, error : 0.17386330053827798\n",
      "step : 12000, error : 0.14552993155903374\n",
      "step : 14000, error : 0.12501589653763606\n",
      "step : 16000, error : 0.10949944909922515\n",
      "step : 18000, error : 0.09736498102857799\n",
      "[0 0] : 1\n",
      "[0 1] : 1\n",
      "[1 0] : 1\n",
      "[1 1] : 0\n"
     ]
    }
   ],
   "source": [
    "xdata = np.array([[0,0], [0, 1], [1, 0], [1, 1]])\n",
    "tdata = np.array([[1, 1, 1, 0]])\n",
    "\n",
    "NAND_gate = logicGate(\"NAND_GATE\", xdata, tdata)\n",
    "NAND_gate.train()\n",
    "\n",
    "for in_data in xdata:\n",
    "    (sig_val, logic_val) = NAND_gate.predict(in_data)\n",
    "    print(f\"{in_data} : {logic_val}\")"
   ]
  },
  {
   "cell_type": "markdown",
   "id": "67b968b5-1cf9-49bf-8067-46053c4bf8b4",
   "metadata": {},
   "source": [
    "### NOR GATE"
   ]
  },
  {
   "cell_type": "code",
   "execution_count": 20,
   "id": "8418b7f3-249d-4d1b-bfa9-22b8e1a6db5f",
   "metadata": {},
   "outputs": [
    {
     "name": "stdout",
     "output_type": "stream",
     "text": [
      "init error :  5.049327877717814\n",
      "step : 0, error : 4.962679451218722\n",
      "step : 2000, error : 0.4497256819450265\n",
      "step : 4000, error : 0.23811679709210493\n",
      "step : 6000, error : 0.15967204840283497\n",
      "step : 8000, error : 0.11949152518372749\n",
      "step : 10000, error : 0.09524070366978704\n",
      "step : 12000, error : 0.07907076052664151\n",
      "step : 14000, error : 0.06754246745582694\n",
      "step : 16000, error : 0.05891871918321395\n",
      "step : 18000, error : 0.05223009230138343\n",
      "[0 0] : 1\n",
      "[0 1] : 0\n",
      "[1 0] : 0\n",
      "[1 1] : 0\n"
     ]
    }
   ],
   "source": [
    "xdata = np.array([[0,0], [0, 1], [1, 0], [1, 1]])\n",
    "tdata = np.array([[1, 0, 0, 0]])\n",
    "\n",
    "NOR_gate = logicGate(\"NOR_GATE\", xdata, tdata)\n",
    "NOR_gate.train()\n",
    "\n",
    "for in_data in xdata:\n",
    "    (sig_val, logic_val) = NOR_gate.predict(in_data)\n",
    "    print(f\"{in_data} : {logic_val}\")"
   ]
  },
  {
   "cell_type": "markdown",
   "id": "4d1cb088-f953-4fb6-871f-afe451915dd4",
   "metadata": {},
   "source": [
    "### XOR GATE"
   ]
  },
  {
   "cell_type": "code",
   "execution_count": 21,
   "id": "3a06ff76-c8fb-4122-96ef-bcd50c24fd56",
   "metadata": {},
   "outputs": [
    {
     "name": "stdout",
     "output_type": "stream",
     "text": [
      "init error :  2.915724473295585\n",
      "step : 0, error : 2.9116970488858938\n",
      "step : 2000, error : 2.7726008858990454\n",
      "step : 4000, error : 2.772587945761893\n",
      "step : 6000, error : 2.77258792228287\n",
      "step : 8000, error : 2.7725879222399397\n",
      "step : 10000, error : 2.772587922239863\n",
      "step : 12000, error : 2.772587922239862\n",
      "step : 14000, error : 2.772587922239862\n",
      "step : 16000, error : 2.772587922239862\n",
      "step : 18000, error : 2.772587922239862\n",
      "[0 0] : 0\n",
      "[0 1] : 0\n",
      "[1 0] : 0\n",
      "[1 1] : 1\n"
     ]
    }
   ],
   "source": [
    "xdata = np.array([[0,0], [0, 1], [1, 0], [1, 1]])\n",
    "tdata = np.array([[0, 1, 1, 0]])\n",
    "\n",
    "XOR_gate = logicGate(\"XOR_GATE\", xdata, tdata)\n",
    "XOR_gate.train()\n",
    "\n",
    "for in_data in xdata:\n",
    "    (sig_val, logic_val) = XOR_gate.predict(in_data)\n",
    "    print(f\"{in_data} : {logic_val}\")"
   ]
  }
 ],
 "metadata": {
  "kernelspec": {
   "display_name": "Python 3 (ipykernel)",
   "language": "python",
   "name": "python3"
  },
  "language_info": {
   "codemirror_mode": {
    "name": "ipython",
    "version": 3
   },
   "file_extension": ".py",
   "mimetype": "text/x-python",
   "name": "python",
   "nbconvert_exporter": "python",
   "pygments_lexer": "ipython3",
   "version": "3.10.12"
  }
 },
 "nbformat": 4,
 "nbformat_minor": 5
}
