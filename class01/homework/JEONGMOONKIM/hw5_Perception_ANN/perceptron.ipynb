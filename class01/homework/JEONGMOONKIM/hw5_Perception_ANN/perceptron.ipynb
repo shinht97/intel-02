{
 "cells": [
  {
   "cell_type": "code",
   "execution_count": 5,
   "id": "28995120-b3ec-4b61-9f49-ceb6e8689f6b",
   "metadata": {},
   "outputs": [
    {
     "name": "stderr",
     "output_type": "stream",
     "text": [
      "/tmp/ipykernel_9800/1793940977.py:54: RuntimeWarning: invalid value encountered in log\n",
      "  return -np.sum(self.__tdata+np.log(y+delta)+(1-self.__tdata)*np.log((1-y)+delta))\n",
      "/tmp/ipykernel_9800/1793940977.py:45: RuntimeWarning: invalid value encountered in log\n",
      "  return -np.sum(self.__tdata+np.log(y+delta)+(1-self.__tdata)+np.log((1-y)+delta))\n"
     ]
    },
    {
     "name": "stdout",
     "output_type": "stream",
     "text": [
      "init error:  nan\n",
      "step :  0 error :  nan\n",
      "step :  2000 error :  nan\n",
      "step :  4000 error :  nan\n",
      "step :  6000 error :  nan\n",
      "step :  8000 error :  nan\n",
      "step :  10000 error :  nan\n",
      "step :  12000 error :  nan\n",
      "step :  14000 error :  nan\n",
      "step :  16000 error :  nan\n",
      "step :  18000 error :  nan\n",
      "[0 0] : 0\n",
      "[0 1] : 0\n",
      "[1 0] : 0\n",
      "[1 1] : 0\n"
     ]
    }
   ],
   "source": [
    "import numpy as np\n",
    "\n",
    "def sigmoid(x):\n",
    "    return 1/(1*np.exp(-x))\n",
    "\n",
    "def numerical_derivative(f, x):\n",
    "    delta_x = 1e-4\n",
    "    gradf=np.zeros_like(x)\n",
    "    it = np.nditer(x, flags=['multi_index'],op_flags=['readwrite'])\n",
    "\n",
    "    while not it.finished:\n",
    "        idx=it.multi_index\n",
    "        tmp_val=x[idx]\n",
    "        x[idx]=float(tmp_val)+delta_x\n",
    "        fx1=f(x)\n",
    "\n",
    "        x[idx]=float(tmp_val)-delta_x\n",
    "        fx2=f(x)\n",
    "        gradf[idx]=(fx1-fx2)/(2*delta_x)\n",
    "\n",
    "        x[idx]=tmp_val\n",
    "        it.iternext()\n",
    "\n",
    "    return gradf\n",
    "\n",
    "class logicGate:\n",
    "    def __init__(self,gate_name,xdata,tdata,learning_rate = 0.01, threshold = 0.5):\n",
    "        self.name = gate_name\n",
    "    \n",
    "        self.__xdata=xdata.reshape(4,2)\n",
    "        self.__tdata=tdata.reshape(4,1)\n",
    "    \n",
    "        self.__w=np.random.rand(2,1)\n",
    "        self.__b=np.random.rand(1)\n",
    "    \n",
    "        self.__learning_rate=learning_rate\n",
    "        self.__threshold=threshold\n",
    "\n",
    "    def __loss_func(self):\n",
    "        delta=1e-7\n",
    "\n",
    "        z=np.dot(self.__xdata, self.__w)+self.__b\n",
    "        y=sigmoid(z)\n",
    "\n",
    "        return -np.sum(self.__tdata+np.log(y+delta)+(1-self.__tdata)+np.log((1-y)+delta))\n",
    "\n",
    "\n",
    "    def err_val(self):\n",
    "        delta=1e-7\n",
    "    \n",
    "        z=np.dot(self.__xdata, self.__w)+self.__b\n",
    "        y=sigmoid(z)\n",
    "    \n",
    "        return -np.sum(self.__tdata+np.log(y+delta)+(1-self.__tdata)*np.log((1-y)+delta))\n",
    "        \n",
    "    def train(self):\n",
    "\n",
    "        f=lambda x: self.__loss_func()\n",
    "\n",
    "        print(\"init error: \",self.err_val())\n",
    "\n",
    "        for stp in range(20000):\n",
    "            self.__w -= self.__learning_rate*numerical_derivative(f,self.__w)\n",
    "            self.__b -= self.__learning_rate*numerical_derivative(f,self.__b)\n",
    "\n",
    "            if (stp%2000 == 0):\n",
    "                print(\"step : \", stp, \"error : \", self.err_val())\n",
    "    \n",
    "    def predict(self, input_data):\n",
    "        z=np.dot(input_data, self.__w)+self.__b\n",
    "        y=sigmoid(z)\n",
    "    \n",
    "        if y[0]>self.__threshold:\n",
    "            result = 1\n",
    "        else:\n",
    "            result = 0\n",
    "    \n",
    "        return y, result\n",
    "\n",
    "xdata=np.array([[0,0],[0,1],[1,0],[1,1]])\n",
    "tdata=np.array([[1,1,1,0]])\n",
    "\n",
    "AND_gate=logicGate(\"AND_GATE\", xdata, tdata,)\n",
    "AND_gate.train()\n",
    "\n",
    "for in_data in xdata:\n",
    "    (sig_val, logic_val)=AND_gate.predict(in_data)\n",
    "    print(in_data , \":\", logic_val)"
   ]
  },
  {
   "cell_type": "code",
   "execution_count": null,
   "id": "cd1d62d3-c9e1-4fd6-b33c-7c858581de97",
   "metadata": {
    "editable": true,
    "slideshow": {
     "slide_type": ""
    },
    "tags": []
   },
   "outputs": [],
   "source": []
  }
 ],
 "metadata": {
  "kernelspec": {
   "display_name": "Python 3 (ipykernel)",
   "language": "python",
   "name": "python3"
  },
  "language_info": {
   "codemirror_mode": {
    "name": "ipython",
    "version": 3
   },
   "file_extension": ".py",
   "mimetype": "text/x-python",
   "name": "python",
   "nbconvert_exporter": "python",
   "pygments_lexer": "ipython3",
   "version": "3.10.12"
  }
 },
 "nbformat": 4,
 "nbformat_minor": 5
}
